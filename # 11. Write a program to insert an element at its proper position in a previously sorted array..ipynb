{
 "cells": [
  {
   "cell_type": "code",
   "execution_count": 4,
   "id": "5cc150a0-d209-4c88-9e65-46d4cc07a0b3",
   "metadata": {},
   "outputs": [
    {
     "data": {
      "text/plain": [
       "array([ 7,  3,  4,  5,  6, 69,  9,  8])"
      ]
     },
     "execution_count": 4,
     "metadata": {},
     "output_type": "execute_result"
    }
   ],
   "source": [
    "# 11. Write a program to insert an element at its proper position in a previously sorted array.\n",
    "import numpy as np\n",
    "arr=np.array([7,3,4,5,6,9,8])\n",
    "def calc(arr,k,element):\n",
    "    return np.insert(arr,k,element)\n",
    "\n",
    "calc(arr,5,69)"
   ]
  },
  {
   "cell_type": "code",
   "execution_count": null,
   "id": "81a8b545-7c48-4ece-af9d-5970ccd6e68d",
   "metadata": {},
   "outputs": [],
   "source": []
  }
 ],
 "metadata": {
  "kernelspec": {
   "display_name": "Python 3 (ipykernel)",
   "language": "python",
   "name": "python3"
  },
  "language_info": {
   "codemirror_mode": {
    "name": "ipython",
    "version": 3
   },
   "file_extension": ".py",
   "mimetype": "text/x-python",
   "name": "python",
   "nbconvert_exporter": "python",
   "pygments_lexer": "ipython3",
   "version": "3.12.4"
  }
 },
 "nbformat": 4,
 "nbformat_minor": 5
}
