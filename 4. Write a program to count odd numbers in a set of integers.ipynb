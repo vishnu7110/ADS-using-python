{
 "cells": [
  {
   "cell_type": "code",
   "execution_count": 2,
   "id": "47a05d55-b122-4c3b-8665-80a292918287",
   "metadata": {},
   "outputs": [
    {
     "data": {
      "text/plain": [
       "4"
      ]
     },
     "execution_count": 2,
     "metadata": {},
     "output_type": "execute_result"
    }
   ],
   "source": [
    "# 4. Write a program to count odd numbers in a set of integers\n",
    "import numpy as np\n",
    "arr=np.array([7,3,4,5,6,9,8])\n",
    "def int(arr):\n",
    "    count=0\n",
    "    for i in arr:\n",
    "        if i%2==1:\n",
    "            count+=1\n",
    "\n",
    "    return count\n",
    "\n",
    "int(arr)"
   ]
  },
  {
   "cell_type": "code",
   "execution_count": null,
   "id": "782658e7-11c8-4a68-afff-523c20d2dd70",
   "metadata": {},
   "outputs": [],
   "source": []
  }
 ],
 "metadata": {
  "kernelspec": {
   "display_name": "Python 3 (ipykernel)",
   "language": "python",
   "name": "python3"
  },
  "language_info": {
   "codemirror_mode": {
    "name": "ipython",
    "version": 3
   },
   "file_extension": ".py",
   "mimetype": "text/x-python",
   "name": "python",
   "nbconvert_exporter": "python",
   "pygments_lexer": "ipython3",
   "version": "3.12.4"
  }
 },
 "nbformat": 4,
 "nbformat_minor": 5
}
