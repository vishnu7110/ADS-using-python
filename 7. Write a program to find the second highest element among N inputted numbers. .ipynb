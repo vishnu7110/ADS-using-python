{
 "cells": [
  {
   "cell_type": "code",
   "execution_count": 4,
   "id": "f8e48c70-9363-4fb9-9600-bb7c7e67311d",
   "metadata": {},
   "outputs": [
    {
     "data": {
      "text/plain": [
       "8"
      ]
     },
     "execution_count": 4,
     "metadata": {},
     "output_type": "execute_result"
    }
   ],
   "source": [
    "# 7. Write a program to find the second highest element among N inputted numbers. \n",
    "import numpy as np\n",
    "arr=np.array([7,3,4,5,6,9,8])\n",
    "def calc(arr):\n",
    "    x=np.sort(arr)\n",
    "    y=x[-2]\n",
    "    return y\n",
    "\n",
    "calc(arr)"
   ]
  },
  {
   "cell_type": "code",
   "execution_count": null,
   "id": "e2e9d8e6-1686-4556-946d-844b65a1281c",
   "metadata": {},
   "outputs": [],
   "source": []
  }
 ],
 "metadata": {
  "kernelspec": {
   "display_name": "Python 3 (ipykernel)",
   "language": "python",
   "name": "python3"
  },
  "language_info": {
   "codemirror_mode": {
    "name": "ipython",
    "version": 3
   },
   "file_extension": ".py",
   "mimetype": "text/x-python",
   "name": "python",
   "nbconvert_exporter": "python",
   "pygments_lexer": "ipython3",
   "version": "3.12.4"
  }
 },
 "nbformat": 4,
 "nbformat_minor": 5
}
