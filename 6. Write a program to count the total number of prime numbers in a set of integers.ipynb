{
 "cells": [
  {
   "cell_type": "code",
   "execution_count": 2,
   "id": "2d678beb-e72e-4a99-96f8-a88b44b8f098",
   "metadata": {},
   "outputs": [
    {
     "name": "stdout",
     "output_type": "stream",
     "text": [
      "Prime numbers: [7, 3, 5]\n",
      "Total prime numbers: 3\n"
     ]
    }
   ],
   "source": [
    "# 6. Write a program to count the total number of prime numbers in a set of integers\n",
    "\n",
    "\n",
    "import numpy as np\n",
    "\n",
    "def is_prime(n):\n",
    "   \n",
    "    if n < 2:\n",
    "        return False\n",
    "    for i in range(2, int(n ** 0.5) + 1):\n",
    "        if n % i == 0:\n",
    "            return False\n",
    "    return True\n",
    "\n",
    "def count_primes(arr):\n",
    "   \n",
    "    count = 0\n",
    "    primes = []  \n",
    "    for num in arr:\n",
    "        if is_prime(num):\n",
    "            primes.append(num)\n",
    "            count += 1\n",
    "    print(\"Prime numbers:\", primes) \n",
    "    return count\n",
    "\n",
    "\n",
    "arr = np.array([7, 3, 4, 5, 6, 9, 8])\n",
    "print(\"Total prime numbers:\", count_primes(arr))\n"
   ]
  },
  {
   "cell_type": "code",
   "execution_count": null,
   "id": "05ae2846-bff6-435e-85b2-54e5f3a0a529",
   "metadata": {},
   "outputs": [],
   "source": []
  }
 ],
 "metadata": {
  "kernelspec": {
   "display_name": "Python 3 (ipykernel)",
   "language": "python",
   "name": "python3"
  },
  "language_info": {
   "codemirror_mode": {
    "name": "ipython",
    "version": 3
   },
   "file_extension": ".py",
   "mimetype": "text/x-python",
   "name": "python",
   "nbconvert_exporter": "python",
   "pygments_lexer": "ipython3",
   "version": "3.12.4"
  }
 },
 "nbformat": 4,
 "nbformat_minor": 5
}
