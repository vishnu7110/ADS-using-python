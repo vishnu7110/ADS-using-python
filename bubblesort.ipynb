{
 "cells": [
  {
   "cell_type": "code",
   "execution_count": null,
   "id": "f52fe5c5-2503-4134-a97f-610a2082c5b9",
   "metadata": {},
   "outputs": [],
   "source": [
    "[12,0,22,5,7,11]\n",
    "1st pass = [0,12,5,7,11,22]\n",
    "2nd pass = [0,5,7,11,12,22]\n"
   ]
  },
  {
   "cell_type": "code",
   "execution_count": 1,
   "id": "b01e1174-ca5c-4753-a84c-83f29c4dbb30",
   "metadata": {},
   "outputs": [
    {
     "name": "stdout",
     "output_type": "stream",
     "text": [
      "Initial array: [12, 0, 22, 5, 7, 11]\n",
      "Sorted array: [0, 5, 7, 11, 12, 22]\n"
     ]
    }
   ],
   "source": [
    "def bubble_sort(arr):\n",
    "    n = len(arr)\n",
    "    for i in range(n):\n",
    "        swapped = False\n",
    "        for j in range(0, n-i-1):\n",
    "            if arr[j] > arr[j+1]:\n",
    "                arr[j], arr[j+1] = arr[j+1], arr[j]  \n",
    "                swapped = True\n",
    "        if not swapped:\n",
    "            break\n",
    "    return arr\n",
    "\n",
    "arr = [12, 0, 22, 5, 7, 11]\n",
    "print(\"Initial array:\", arr)\n",
    "sorted_arr = bubble_sort(arr)\n",
    "print(\"Sorted array:\", sorted_arr)"
   ]
  },
  {
   "cell_type": "code",
   "execution_count": null,
   "id": "e667c7b7-41fa-401c-b658-07b98ce2223b",
   "metadata": {},
   "outputs": [],
   "source": []
  }
 ],
 "metadata": {
  "kernelspec": {
   "display_name": "Python 3 (ipykernel)",
   "language": "python",
   "name": "python3"
  },
  "language_info": {
   "codemirror_mode": {
    "name": "ipython",
    "version": 3
   },
   "file_extension": ".py",
   "mimetype": "text/x-python",
   "name": "python",
   "nbconvert_exporter": "python",
   "pygments_lexer": "ipython3",
   "version": "3.12.4"
  }
 },
 "nbformat": 4,
 "nbformat_minor": 5
}
