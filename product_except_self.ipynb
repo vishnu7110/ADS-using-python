{
 "cells": [
  {
   "cell_type": "code",
   "execution_count": 1,
   "id": "8028f578-46dc-4eee-b674-948295bb6a2e",
   "metadata": {},
   "outputs": [
    {
     "name": "stdout",
     "output_type": "stream",
     "text": [
      "[24, 12, 8, 6]\n"
     ]
    }
   ],
   "source": [
    "def product_except_self(nums):\n",
    "    length = len(nums)\n",
    "    \n",
    "    # Initialize the output array\n",
    "    output = [1] * length\n",
    "    \n",
    "    # Calculate products of elements to the left of each index\n",
    "    left_product = 1\n",
    "    for i in range(length):\n",
    "        output[i] = left_product\n",
    "        left_product *= nums[i]\n",
    "    \n",
    "    # Calculate products of elements to the right of each index\n",
    "    right_product = 1\n",
    "    for i in range(length - 1, -1, -1):\n",
    "        output[i] *= right_product\n",
    "        right_product *= nums[i]\n",
    "    \n",
    "    return output\n",
    "\n",
    "# Example usage:\n",
    "nums = [1, 2, 3, 4]\n",
    "result = product_except_self(nums)\n",
    "print(result)  # Output: [24, 12, 8, 6]\n"
   ]
  },
  {
   "cell_type": "code",
   "execution_count": 15,
   "id": "3352d32f-3bba-476a-af98-8d3313fa85f0",
   "metadata": {},
   "outputs": [],
   "source": [
    "def aa(nums):\n",
    "    lenght=len(nums)\n",
    "    output=[1]*lenght\n",
    " \n",
    "    left=1\n",
    "    for i in range(lenght):\n",
    "        output[i]=left\n",
    "        left*=nums[i]\n",
    "    right=1\n",
    "    for i in range(lenght -1, -1,-1):\n",
    "        output[i]=right\n",
    "        right*=nums[i]\n",
    "    return output\n",
    "    "
   ]
  },
  {
   "cell_type": "code",
   "execution_count": 19,
   "id": "6fe6fc2c-886f-4fb9-abb9-c1179602adba",
   "metadata": {},
   "outputs": [
    {
     "data": {
      "text/plain": [
       "[24, 12, 4, 1]"
      ]
     },
     "execution_count": 19,
     "metadata": {},
     "output_type": "execute_result"
    }
   ],
   "source": [
    "a=[1,2,3,4]\n",
    "r=aa(a)\n",
    "r"
   ]
  },
  {
   "cell_type": "code",
   "execution_count": null,
   "id": "0c700a53-51d2-425c-b4b6-ee2247891e17",
   "metadata": {},
   "outputs": [],
   "source": []
  }
 ],
 "metadata": {
  "kernelspec": {
   "display_name": "Python 3 (ipykernel)",
   "language": "python",
   "name": "python3"
  },
  "language_info": {
   "codemirror_mode": {
    "name": "ipython",
    "version": 3
   },
   "file_extension": ".py",
   "mimetype": "text/x-python",
   "name": "python",
   "nbconvert_exporter": "python",
   "pygments_lexer": "ipython3",
   "version": "3.12.4"
  }
 },
 "nbformat": 4,
 "nbformat_minor": 5
}
