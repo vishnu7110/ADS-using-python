{
 "cells": [
  {
   "cell_type": "code",
   "execution_count": 11,
   "id": "0ebe1ca9-dc88-4ed3-83ea-e86883484bc6",
   "metadata": {},
   "outputs": [
    {
     "name": "stdout",
     "output_type": "stream",
     "text": [
      "5\n"
     ]
    }
   ],
   "source": [
    "#method1\n",
    "def last_index_of_one(name):\n",
    "\n",
    "    last_index = -1\n",
    "    a = len(name)\n",
    "    for index in range(a):\n",
    "        if name[index] == '1':\n",
    "            last = index\n",
    "    print(last)\n",
    "\n",
    "\n",
    "test_string = \"abcde1fgh\"\n",
    "last_index_of_one(test_string)"
   ]
  },
  {
   "cell_type": "code",
   "execution_count": 15,
   "id": "b6bcb835-5121-4c60-bf6e-2091f9f56026",
   "metadata": {},
   "outputs": [
    {
     "name": "stdout",
     "output_type": "stream",
     "text": [
      "5\n"
     ]
    }
   ],
   "source": [
    "#2method\n",
    "string_name = \"dbcbd1bshcbsdh\"  # Replace with your actual string\n",
    "index = string_name.rfind('1')\n",
    "print(index)"
   ]
  },
  {
   "cell_type": "code",
   "execution_count": 37,
   "id": "17465b50-c613-4eed-bb65-7c212dc08e8b",
   "metadata": {},
   "outputs": [
    {
     "name": "stdout",
     "output_type": "stream",
     "text": [
      "last occurence of 1: 3\n"
     ]
    }
   ],
   "source": [
    "#3method\n",
    "import numpy as np\n",
    "x=np.array([0,0,1,1,0,0,4,4])\n",
    "def last(x):\n",
    "    index = -1\n",
    "    n=len(x)\n",
    "    for i in range(n):\n",
    "        if x[i]==1:\n",
    "            index=i\n",
    "    return index\n",
    "print(\"last occurence of 1:\", last(x))\n",
    "    "
   ]
  },
  {
   "cell_type": "code",
   "execution_count": 49,
   "id": "ade5cf70-40a6-4b83-a061-917d34b4ae0e",
   "metadata": {},
   "outputs": [
    {
     "name": "stdout",
     "output_type": "stream",
     "text": [
      "5\n",
      "3\n",
      "1\n"
     ]
    }
   ],
   "source": [
    "#traverous method \n",
    "def zeros(arr):\n",
    "    for index in range(len(arr) - 1, -1, -1): \n",
    "        if arr[index] == 0:\n",
    "            print(index)\n",
    "\n",
    "result = [1, 0, 3, 0, 4, 0, 5]\n",
    "zeros(result)"
   ]
  },
  {
   "cell_type": "code",
   "execution_count": null,
   "id": "f75c3714-27a5-45b2-8325-c6dcb5ef6220",
   "metadata": {},
   "outputs": [],
   "source": []
  }
 ],
 "metadata": {
  "kernelspec": {
   "display_name": "Python 3 (ipykernel)",
   "language": "python",
   "name": "python3"
  },
  "language_info": {
   "codemirror_mode": {
    "name": "ipython",
    "version": 3
   },
   "file_extension": ".py",
   "mimetype": "text/x-python",
   "name": "python",
   "nbconvert_exporter": "python",
   "pygments_lexer": "ipython3",
   "version": "3.12.4"
  }
 },
 "nbformat": 4,
 "nbformat_minor": 5
}
