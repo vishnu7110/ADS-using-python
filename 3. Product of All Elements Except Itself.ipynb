{
 "cells": [
  {
   "cell_type": "code",
   "execution_count": 2,
   "id": "f16e7d21-783b-4e72-bf74-08581dec49cd",
   "metadata": {},
   "outputs": [
    {
     "name": "stdout",
     "output_type": "stream",
     "text": [
      "[24, 12, 8, 6]\n"
     ]
    }
   ],
   "source": [
    "# 3. Product of All Elements Except Itself\n",
    "    #• Problem: Given an array of integers, return a new array such that each\n",
    "    #element at index i is the product of all the numbers in the array except\n",
    "    #the one at i.\n",
    "    #• Input: arr = [1, 2, 3, 4]\n",
    "    #• Output: [24, 12, 8, 6]\n",
    "import numpy as np\n",
    "\n",
    "arr = np.array([1, 2, 3, 4])\n",
    "m = [] \n",
    "\n",
    "\n",
    "for i in range(len(arr)):\n",
    "    prod = 1\n",
    "    for j in range(len(arr)):\n",
    "        if i != j:\n",
    "            prod *= arr[j]\n",
    "    m.append(prod)\n",
    "\n",
    "print(m)\n",
    "\n"
   ]
  },
  {
   "cell_type": "code",
   "execution_count": null,
   "id": "bed2e462-43fb-45a5-92cc-c3ffa43ee302",
   "metadata": {},
   "outputs": [],
   "source": []
  }
 ],
 "metadata": {
  "kernelspec": {
   "display_name": "Python 3 (ipykernel)",
   "language": "python",
   "name": "python3"
  },
  "language_info": {
   "codemirror_mode": {
    "name": "ipython",
    "version": 3
   },
   "file_extension": ".py",
   "mimetype": "text/x-python",
   "name": "python",
   "nbconvert_exporter": "python",
   "pygments_lexer": "ipython3",
   "version": "3.12.4"
  }
 },
 "nbformat": 4,
 "nbformat_minor": 5
}
