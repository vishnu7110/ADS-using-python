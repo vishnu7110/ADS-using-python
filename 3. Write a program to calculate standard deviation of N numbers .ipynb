{
 "cells": [
  {
   "cell_type": "code",
   "execution_count": 3,
   "id": "33b3e53d-9690-4082-afba-b3d108e84224",
   "metadata": {},
   "outputs": [],
   "source": [
    "# 3. Write a program to calculate standard deviation of N numbers \n",
    "import numpy as np\n",
    "arr=np.array([7,3,4,5,6,9,8])\n",
    "def calc(arr):\n",
    "    l=len(arr)\n",
    "    sum=0\n",
    "    n=[]\n",
    "    m=0\n",
    "    for x in arr:\n",
    "        sum=sum+x\n",
    "\n",
    "    mean=sum/l\n",
    "    for x in arr:\n",
    "        v=(x-mean)**2\n",
    "        n.append(v)\n",
    "\n",
    "    for i in n:\n",
    "        m=i+m\n",
    "\n",
    "    variance=m/l\n",
    "    standard_deviation=(variance)**0.5\n",
    "    return standard_deviation\n",
    "\n",
    "     "
   ]
  },
  {
   "cell_type": "code",
   "execution_count": 5,
   "id": "a572f612-b4b5-47cc-a294-1ebad9da4939",
   "metadata": {},
   "outputs": [
    {
     "data": {
      "text/plain": [
       "2.0"
      ]
     },
     "execution_count": 5,
     "metadata": {},
     "output_type": "execute_result"
    }
   ],
   "source": [
    "calc(arr)"
   ]
  },
  {
   "cell_type": "code",
   "execution_count": null,
   "id": "df436a50-e440-42ba-92db-f9aed9866a0a",
   "metadata": {},
   "outputs": [],
   "source": []
  }
 ],
 "metadata": {
  "kernelspec": {
   "display_name": "Python 3 (ipykernel)",
   "language": "python",
   "name": "python3"
  },
  "language_info": {
   "codemirror_mode": {
    "name": "ipython",
    "version": 3
   },
   "file_extension": ".py",
   "mimetype": "text/x-python",
   "name": "python",
   "nbconvert_exporter": "python",
   "pygments_lexer": "ipython3",
   "version": "3.12.4"
  }
 },
 "nbformat": 4,
 "nbformat_minor": 5
}
