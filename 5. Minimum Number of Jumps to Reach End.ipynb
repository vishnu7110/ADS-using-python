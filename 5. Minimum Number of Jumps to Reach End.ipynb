{
 "cells": [
  {
   "cell_type": "code",
   "execution_count": 2,
   "id": "fc513b1b-87f9-4dac-b520-424335b73771",
   "metadata": {},
   "outputs": [
    {
     "name": "stdout",
     "output_type": "stream",
     "text": [
      "2\n"
     ]
    }
   ],
   "source": [
    "# 5. Minimum Number of Jumps to Reach End\n",
    "     #• Problem: Given an array of integers where each element represents the\n",
    "     #  maximum jump length from that position, determine the minimum number\n",
    "     #  of jumps required to reach the end of the array.\n",
    "     #  • Input: arr = [6, 2, 4, 0, 5, 1, 1, 4, 2, 9]\n",
    "     #  • Output: 2 (The minimum jumps to reach the end are 6 -> 5 -> 9)\n",
    "def min_jumps(arr):\n",
    "    n = len(arr)\n",
    "    \n",
    "    \n",
    "    if n <= 1:\n",
    "        return 0\n",
    "    \n",
    "    jumps = 0\n",
    "    farthest = 0\n",
    "    current_end = 0\n",
    "    \n",
    "    for i in range(n):\n",
    "        \n",
    "        farthest = max(farthest, i + arr[i])\n",
    "        \n",
    "        \n",
    "        if i == current_end:\n",
    "            jumps += 1\n",
    "            current_end = farthest\n",
    "            \n",
    "            \n",
    "            if current_end >= n - 1:\n",
    "                break\n",
    "    \n",
    "    return jumps\n",
    "\n",
    "\n",
    "arr = [6, 2, 4, 0, 5, 1, 1, 4, 2, 9]\n",
    "print(min_jumps(arr)) \n"
   ]
  },
  {
   "cell_type": "code",
   "execution_count": null,
   "id": "efd1eaf4-5a0e-416c-8aeb-7e6e025640f6",
   "metadata": {},
   "outputs": [],
   "source": []
  }
 ],
 "metadata": {
  "kernelspec": {
   "display_name": "Python 3 (ipykernel)",
   "language": "python",
   "name": "python3"
  },
  "language_info": {
   "codemirror_mode": {
    "name": "ipython",
    "version": 3
   },
   "file_extension": ".py",
   "mimetype": "text/x-python",
   "name": "python",
   "nbconvert_exporter": "python",
   "pygments_lexer": "ipython3",
   "version": "3.12.4"
  }
 },
 "nbformat": 4,
 "nbformat_minor": 5
}
