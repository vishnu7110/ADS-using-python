{
 "cells": [
  {
   "cell_type": "code",
   "execution_count": null,
   "id": "1706877a-2e47-40da-a587-63d4a4b98b50",
   "metadata": {},
   "outputs": [],
   "source": [
    "binary_search(list,key_value):\n",
    "1)set low = 0\n",
    "2)set high = lenght of the list -1\n",
    "3)while low<high:\n",
    "    mid=(low+high)/2\n",
    "    if key_value == list[mid], then \n",
    "        return mid\n",
    "elif key_value < list[mid], then \n",
    "    high = mid+1\n",
    "else \n",
    "low=mid-1\n",
    "4) return -1"
   ]
  },
  {
   "cell_type": "code",
   "execution_count": 13,
   "id": "2f47daa7-281e-4531-83fa-6edc0ceed382",
   "metadata": {},
   "outputs": [],
   "source": [
    "def binary_search(lst, key_value):\n",
    "    low = 0\n",
    "    high = len(lst) - 1\n",
    "\n",
    "    while low <= high:  \n",
    "        mid = (low + high) // 2  \n",
    "\n",
    "        if key_value == lst[mid]:  \n",
    "            return mid\n",
    "        elif key_value < lst[mid]:  \n",
    "            high = mid - 1  \n",
    "        else: \n",
    "            low = mid + 1 \n",
    "            \n",
    "    return -1  "
   ]
  },
  {
   "cell_type": "code",
   "execution_count": null,
   "id": "9032c11b-0ee2-4ce2-a731-d2439f85c723",
   "metadata": {},
   "outputs": [],
   "source": []
  },
  {
   "cell_type": "code",
   "execution_count": 20,
   "id": "ffcb47ae-4414-456e-9634-1f824486c015",
   "metadata": {},
   "outputs": [
    {
     "name": "stdin",
     "output_type": "stream",
     "text": [
      "enter the element 7\n",
      "enter element: 4\n",
      "enter element: 6\n",
      "enter element: 4\n",
      "enter element: 3\n",
      "enter element: 2\n",
      "enter element: 67\n",
      "enter element: 87\n",
      "enter the element to be searched 67\n"
     ]
    },
    {
     "name": "stdout",
     "output_type": "stream",
     "text": [
      "67 found at position 5\n"
     ]
    }
   ],
   "source": [
    "n=int(input(\"enter the element\"))\n",
    "lst=[]\n",
    "for i in range(n):\n",
    "    num=int(input(\"enter element:\"))\n",
    "    lst.append(num)\n",
    "\n",
    "key= int(input(\"enter the element to be searched\"))\n",
    "position=binary_search(lst,key)\n",
    "\n",
    "if position == -1:\n",
    "    print(\"element not found\")\n",
    "else:\n",
    "    print(\"{} found at position {}\".format(key, position))"
   ]
  },
  {
   "cell_type": "code",
   "execution_count": 22,
   "id": "23bb50ec-83eb-4c3f-93e3-c613af72e284",
   "metadata": {},
   "outputs": [
    {
     "data": {
      "text/plain": [
       "7"
      ]
     },
     "execution_count": 22,
     "metadata": {},
     "output_type": "execute_result"
    }
   ],
   "source": [
    "lst=[2,3,4,5,8,9,7,66]\n",
    "binary_search(lst,66)\n"
   ]
  },
  {
   "cell_type": "code",
   "execution_count": null,
   "id": "3e3a815d-4220-4d14-b870-12d43b900539",
   "metadata": {},
   "outputs": [],
   "source": [
    "class employee: \n",
    "    def e_"
   ]
  }
 ],
 "metadata": {
  "kernelspec": {
   "display_name": "Python 3 (ipykernel)",
   "language": "python",
   "name": "python3"
  },
  "language_info": {
   "codemirror_mode": {
    "name": "ipython",
    "version": 3
   },
   "file_extension": ".py",
   "mimetype": "text/x-python",
   "name": "python",
   "nbconvert_exporter": "python",
   "pygments_lexer": "ipython3",
   "version": "3.12.4"
  }
 },
 "nbformat": 4,
 "nbformat_minor": 5
}
