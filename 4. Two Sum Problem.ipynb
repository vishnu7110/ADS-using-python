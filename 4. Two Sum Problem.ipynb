{
 "cells": [
  {
   "cell_type": "code",
   "execution_count": 2,
   "id": "48e9fd40-fe71-4d4a-a696-ece67c55f766",
   "metadata": {},
   "outputs": [
    {
     "name": "stdout",
     "output_type": "stream",
     "text": [
      "[0, 1]\n"
     ]
    }
   ],
   "source": [
    "# 4. Two Sum Problem\n",
    "     #• Problem: Given an array of integers and a target value, return the indices\n",
    "     #of the two numbers such that they add up to the target.\n",
    "     #• Input: arr = [2, 7, 11, 15], target = 9\n",
    "     #• Output: [0, 1] (because arr[0] + arr[1] == 9\n",
    "def two_sum(arr, target):\n",
    "   \n",
    "    num_map = {}\n",
    "    \n",
    "    \n",
    "    for i, num in enumerate(arr):\n",
    "        \n",
    "        complement = target - num\n",
    "        \n",
    "        \n",
    "        if complement in num_map:\n",
    "            \n",
    "            return [num_map[complement], i]\n",
    "        \n",
    "        \n",
    "        num_map[num] = i\n",
    "    \n",
    "    \n",
    "    return None\n",
    "\n",
    "\n",
    "arr = [2, 7, 11, 15]\n",
    "target = 9\n",
    "result = two_sum(arr, target)\n",
    "print(result) \n"
   ]
  },
  {
   "cell_type": "code",
   "execution_count": null,
   "id": "3fae7a3c-d485-4fb0-a453-1baad4c11355",
   "metadata": {},
   "outputs": [],
   "source": []
  }
 ],
 "metadata": {
  "kernelspec": {
   "display_name": "Python 3 (ipykernel)",
   "language": "python",
   "name": "python3"
  },
  "language_info": {
   "codemirror_mode": {
    "name": "ipython",
    "version": 3
   },
   "file_extension": ".py",
   "mimetype": "text/x-python",
   "name": "python",
   "nbconvert_exporter": "python",
   "pygments_lexer": "ipython3",
   "version": "3.12.4"
  }
 },
 "nbformat": 4,
 "nbformat_minor": 5
}
