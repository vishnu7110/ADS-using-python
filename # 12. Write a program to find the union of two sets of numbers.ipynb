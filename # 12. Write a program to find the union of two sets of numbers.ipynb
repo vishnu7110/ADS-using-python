{
 "cells": [
  {
   "cell_type": "code",
   "execution_count": 2,
   "id": "0199a59f-3d81-4ca0-8402-7feb8b1543ed",
   "metadata": {},
   "outputs": [
    {
     "name": "stdout",
     "output_type": "stream",
     "text": [
      "The union of the two arrays is: {1, 2, 3, 4, 5, 6, 7, 8, 9}\n"
     ]
    }
   ],
   "source": [
    "# 12. Write a program to find the union of two sets of numbers\n",
    "import numpy as np\n",
    "\n",
    "def calc(arr, narr):\n",
    "    a = set(arr)  \n",
    "    b = set(narr)  \n",
    "    return a | b  \n",
    "\n",
    "\n",
    "arr = np.array([7, 3, 4, 5, 6, 9, 8])\n",
    "narr = np.array([1, 2, 3, 4, 5, 6, 7])\n",
    "\n",
    "union_result = calc(arr, narr)\n",
    "print(f\"The union of the two arrays is: {union_result}\")\n"
   ]
  },
  {
   "cell_type": "code",
   "execution_count": null,
   "id": "cbe354fa-a757-4976-97c3-046c61ddeb7a",
   "metadata": {},
   "outputs": [],
   "source": []
  }
 ],
 "metadata": {
  "kernelspec": {
   "display_name": "Python 3 (ipykernel)",
   "language": "python",
   "name": "python3"
  },
  "language_info": {
   "codemirror_mode": {
    "name": "ipython",
    "version": 3
   },
   "file_extension": ".py",
   "mimetype": "text/x-python",
   "name": "python",
   "nbconvert_exporter": "python",
   "pygments_lexer": "ipython3",
   "version": "3.12.4"
  }
 },
 "nbformat": 4,
 "nbformat_minor": 5
}
