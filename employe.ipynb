{
 "cells": [
  {
   "cell_type": "code",
   "execution_count": 1,
   "id": "dd69d302-49ef-4769-86f0-3ac6873dc144",
   "metadata": {},
   "outputs": [
    {
     "name": "stdout",
     "output_type": "stream",
     "text": [
      "name: arvind\n",
      "ID: 1234\n",
      "Age: 20\n"
     ]
    }
   ],
   "source": [
    "class employe:\n",
    "    def e_data(self,n,id,a):\n",
    "        self.name=n\n",
    "        self.id= id\n",
    "        self.age=a\n",
    "    def display(self):\n",
    "        print(\"name:\", self.name)\n",
    "        print(\"ID:\", self.id)\n",
    "        print(\"Age:\", self.age)\n",
    "\n",
    "a1=employe()\n",
    "a1.e_data(\"arvind\",\"1234\",\"20\")\n",
    "a1.display()"
   ]
  },
  {
   "cell_type": "code",
   "execution_count": null,
   "id": "e8359eb3-1747-4669-b020-b8756efa7a27",
   "metadata": {},
   "outputs": [],
   "source": [
    "class petanimal:\n",
    "    def dog()"
   ]
  },
  {
   "cell_type": "code",
   "execution_count": 7,
   "id": "00ead397-dbda-4590-a7da-29c628a6e24a",
   "metadata": {},
   "outputs": [
    {
     "name": "stdout",
     "output_type": "stream",
     "text": [
      "Name: Buddy, Species: Dog\n",
      "Name: Whiskers, Species: Cat\n",
      "Total number of PetAnimal instances: 5\n"
     ]
    }
   ],
   "source": [
    "class PetAnimal:\n",
    "    \n",
    "    count = 0 \n",
    "    \n",
    "    def __init__(self, name, species):\n",
    "        self.name = name      \n",
    "        self.species = species\n",
    "        PetAnimal.count += 1  \n",
    "\n",
    "    def display(self):\n",
    "        print(f\"Name: {self.name}, Species: {self.species}\")\n",
    "\n",
    "# Example usage:\n",
    "pet1 = PetAnimal(\"Buddy\", \"Dog\")\n",
    "pet2 = PetAnimal(\"Whiskers\", \"Cat\")\n",
    "pet3 = PetAnimal(\"Whiskers\", \"Cat\")\n",
    "pet4 = PetAnimal(\"Whiskers\", \"Cat\")\n",
    "pet5 = PetAnimal(\"Whiskers\", \"Cat\")\n",
    "pet1.display()\n",
    "pet2.display()\n",
    "print(f\"Total number of PetAnimal instances: {PetAnimal.count}\")"
   ]
  },
  {
   "cell_type": "code",
   "execution_count": 9,
   "id": "b6625370-e72a-4fbc-b421-29618cdacb20",
   "metadata": {},
   "outputs": [
    {
     "ename": "SyntaxError",
     "evalue": "unmatched ')' (2906643091.py, line 4)",
     "output_type": "error",
     "traceback": [
      "\u001b[1;36m  Cell \u001b[1;32mIn[9], line 4\u001b[1;36m\u001b[0m\n\u001b[1;33m    1)set index=0\u001b[0m\n\u001b[1;37m     ^\u001b[0m\n\u001b[1;31mSyntaxError\u001b[0m\u001b[1;31m:\u001b[0m unmatched ')'\n"
     ]
    }
   ],
   "source": [
    "algorithm:\n",
    "\n",
    "linear_search(list, key_value):\n",
    " 1)set index=0\n",
    " 2)while index < size of the list do \n",
    "        if list[index] == key_value then \n",
    "            return index\n",
    "        index=index+1\n",
    " 3)return - 1 \n"
   ]
  },
  {
   "cell_type": "code",
   "execution_count": null,
   "id": "c7961ce9-9101-4b57-9ae4-ad58d80a1c4e",
   "metadata": {},
   "outputs": [],
   "source": [
    "class linear_search:"
   ]
  }
 ],
 "metadata": {
  "kernelspec": {
   "display_name": "Python 3 (ipykernel)",
   "language": "python",
   "name": "python3"
  },
  "language_info": {
   "codemirror_mode": {
    "name": "ipython",
    "version": 3
   },
   "file_extension": ".py",
   "mimetype": "text/x-python",
   "name": "python",
   "nbconvert_exporter": "python",
   "pygments_lexer": "ipython3",
   "version": "3.12.4"
  }
 },
 "nbformat": 4,
 "nbformat_minor": 5
}
