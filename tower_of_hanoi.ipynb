{
 "cells": [
  {
   "cell_type": "code",
   "execution_count": 7,
   "id": "efc18a2a-a20f-4504-82cb-35989a66b686",
   "metadata": {},
   "outputs": [
    {
     "name": "stdin",
     "output_type": "stream",
     "text": [
      "Enter number of disks:  3\n"
     ]
    },
    {
     "name": "stdout",
     "output_type": "stream",
     "text": [
      "Move disk 1 from A to C\n",
      "Move disk 2 from A to B\n",
      "Move disk 1 from C to B\n",
      "Move disk 3 from A to C\n",
      "Move disk 1 from B to A\n",
      "Move disk 2 from B to C\n",
      "Move disk 1 from A to C\n"
     ]
    }
   ],
   "source": [
    "def tower_of_hanoi(n, source, destination, auxiliary):\n",
    "    if n == 1:\n",
    "        print(f\"Move disk 1 from {source} to {destination}\")\n",
    "        return\n",
    "    \n",
    "    # Move n-1 disks from source to auxiliary using destination\n",
    "    tower_of_hanoi(n - 1, source, auxiliary, destination)\n",
    "    \n",
    "    # Move the nth disk from source to destination\n",
    "    print(f\"Move disk {n} from {source} to {destination}\")\n",
    "    \n",
    "    # Move n-1 disks from auxiliary to destination using source\n",
    "    tower_of_hanoi(n - 1, auxiliary, destination, source)\n",
    "\n",
    "# Taking input from the user\n",
    "n = int(input(\"Enter number of disks: \"))\n",
    "tower_of_hanoi(n,'A','C','B')"
   ]
  },
  {
   "cell_type": "code",
   "execution_count": 13,
   "id": "42fb7531-2aec-4698-ad3a-2fc9eaabb131",
   "metadata": {},
   "outputs": [
    {
     "name": "stdin",
     "output_type": "stream",
     "text": [
      "Enter number of disks:  2\n"
     ]
    },
    {
     "name": "stdout",
     "output_type": "stream",
     "text": [
      "Move disk 1 from A to B\n",
      "Move disk 2 from A to C\n",
      "Move disk 1 from B to C\n"
     ]
    }
   ],
   "source": [
    "def tower_of_hanoi_iterative(n):\n",
    "    moves = []\n",
    "    moves.append((1, 'A', 'C'))  # Move the first disk from A to C\n",
    "\n",
    "    for i in range(2, n + 1):\n",
    "        temp_moves = []\n",
    "        for disk, from_rod, to_rod in moves:\n",
    "            temp_moves.append((disk, from_rod, 'B' if to_rod == 'C' else 'C'))\n",
    "        \n",
    "        temp_moves.append((i, 'A', 'C'))  # Move the biggest disk from A to C\n",
    "        \n",
    "        for disk, from_rod, to_rod in moves:\n",
    "            temp_moves.append((disk, 'B' if from_rod == 'A' else 'A', to_rod))\n",
    "        \n",
    "        moves = temp_moves\n",
    "    \n",
    "    for disk, from_rod, to_rod in moves:\n",
    "        print(f\"Move disk {disk} from {from_rod} to {to_rod}\")\n",
    "\n",
    "# Taking input from the user\n",
    "n = int(input(\"Enter number of disks: \"))\n",
    "tower_of_hanoi_iterative(n)"
   ]
  },
  {
   "cell_type": "code",
   "execution_count": 17,
   "id": "a3200ce9-c509-448f-bb8b-7f06eb4a737d",
   "metadata": {},
   "outputs": [
    {
     "name": "stdin",
     "output_type": "stream",
     "text": [
      "Enter the position of Fibonacci number:  5\n"
     ]
    },
    {
     "name": "stdout",
     "output_type": "stream",
     "text": [
      "Fibonacci number at position 5 is 3\n"
     ]
    }
   ],
   "source": [
    "def fibonacci(n):\n",
    "    if n <= 0:\n",
    "        return \"Input should be a positive integer\"\n",
    "    elif n == 1:\n",
    "        return 0\n",
    "    elif n == 2:\n",
    "        return 1\n",
    "    else:\n",
    "        return fibonacci(n - 1) + fibonacci(n - 2)\n",
    "\n",
    "num = int(input(\"Enter the position of Fibonacci number: \"))\n",
    "print(f\"Fibonacci number at position {num} is {fibonacci(num)}\")"
   ]
  },
  {
   "cell_type": "code",
   "execution_count": null,
   "id": "7e6900ca-64df-43d0-9d57-e3b22cecf15b",
   "metadata": {},
   "outputs": [],
   "source": []
  }
 ],
 "metadata": {
  "kernelspec": {
   "display_name": "Python 3 (ipykernel)",
   "language": "python",
   "name": "python3"
  },
  "language_info": {
   "codemirror_mode": {
    "name": "ipython",
    "version": 3
   },
   "file_extension": ".py",
   "mimetype": "text/x-python",
   "name": "python",
   "nbconvert_exporter": "python",
   "pygments_lexer": "ipython3",
   "version": "3.12.4"
  }
 },
 "nbformat": 4,
 "nbformat_minor": 5
}
