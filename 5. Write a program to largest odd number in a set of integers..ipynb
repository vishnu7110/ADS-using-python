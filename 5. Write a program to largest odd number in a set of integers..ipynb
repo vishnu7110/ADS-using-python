{
 "cells": [
  {
   "cell_type": "code",
   "execution_count": 2,
   "id": "5ae3fe15-d7df-4d18-99b5-36a6c2049bc4",
   "metadata": {},
   "outputs": [
    {
     "data": {
      "text/plain": [
       "9"
      ]
     },
     "execution_count": 2,
     "metadata": {},
     "output_type": "execute_result"
    }
   ],
   "source": [
    "# 5. Write a program to largest odd number in a set of integers.\n",
    "import numpy as np\n",
    "arr=np.array([7,3,4,5,6,9,8])\n",
    "def int(arr):\n",
    "    new=[]\n",
    "    for i in arr:\n",
    "        if i%2==1:\n",
    "            new.append(i)\n",
    "\n",
    "    x=np.max(new)\n",
    "    return x\n",
    "\n",
    "int(arr)"
   ]
  },
  {
   "cell_type": "code",
   "execution_count": null,
   "id": "751ed16d-7297-47e4-a0f6-75c0d81903a9",
   "metadata": {},
   "outputs": [],
   "source": []
  }
 ],
 "metadata": {
  "kernelspec": {
   "display_name": "Python 3 (ipykernel)",
   "language": "python",
   "name": "python3"
  },
  "language_info": {
   "codemirror_mode": {
    "name": "ipython",
    "version": 3
   },
   "file_extension": ".py",
   "mimetype": "text/x-python",
   "name": "python",
   "nbconvert_exporter": "python",
   "pygments_lexer": "ipython3",
   "version": "3.12.4"
  }
 },
 "nbformat": 4,
 "nbformat_minor": 5
}
