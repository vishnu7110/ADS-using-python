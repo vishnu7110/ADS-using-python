{
 "cells": [
  {
   "cell_type": "code",
   "execution_count": 2,
   "id": "ecd81009-e14a-460e-bd4d-93ae3ca59cab",
   "metadata": {},
   "outputs": [
    {
     "ename": "IndentationError",
     "evalue": "unindent does not match any outer indentation level (<string>, line 18)",
     "output_type": "error",
     "traceback": [
      "\u001b[1;36m  File \u001b[1;32m<string>:18\u001b[1;36m\u001b[0m\n\u001b[1;33m    def enqueue(self, value):\u001b[0m\n\u001b[1;37m                             ^\u001b[0m\n\u001b[1;31mIndentationError\u001b[0m\u001b[1;31m:\u001b[0m unindent does not match any outer indentation level\n"
     ]
    }
   ],
   "source": [
    "import numpy as np\n",
    "\n",
    "class Queue:\n",
    "    def __init__(self,size):\n",
    "        self.front=-1\n",
    "        self.rear=-1\n",
    "        self.size=size\n",
    "        self.arr=np.empty(size,dtype=int)\n",
    "\n",
    "    def isempty(self):\n",
    "        return self.front==-1\n",
    "    def arr_size(self):\n",
    "        return len(self.arr)\n",
    "    def isfull(self):\n",
    "        return self.rear==self.size-1\n",
    "    def peek(self):\n",
    "        return self.arr[self.front]\n",
    "     def enqueue(self, value):\n",
    "        if self.isfull():\n",
    "            print(\"Queue is full!\")\n",
    "            return\n",
    "        if self.front == -1:\n",
    "            self.front = 0\n",
    "        self.rear += 1\n",
    "        self.arr[self.rear] = item\n",
    "        print(f\"{item} added to the queue\")\n",
    "    def dequeue(self):\n",
    "        if self.isempty():\n",
    "            print(\"Queue is empty!\")\n",
    "            return None\n",
    "        value = self.arr[self.front]\n",
    "        if self.front == self.rear:  \n",
    "            self.front = self.rear = -1\n",
    "        else:\n",
    "            self.front += 1\n",
    "        print(f\"Dequeued: {value}\")\n",
    "        return value\n",
    "    def display(self):\n",
    "        if self.isempty():\n",
    "            print(\"Queue is empty!\")\n",
    "        else:\n",
    "            print(\"Queue elements:\", self.arr[self.front:self.rear+1]"
   ]
  },
  {
   "cell_type": "code",
   "execution_count": null,
   "id": "3893a334-c13f-46c6-8784-bb1bee3d77a2",
   "metadata": {},
   "outputs": [],
   "source": []
  }
 ],
 "metadata": {
  "kernelspec": {
   "display_name": "Python 3 (ipykernel)",
   "language": "python",
   "name": "python3"
  },
  "language_info": {
   "codemirror_mode": {
    "name": "ipython",
    "version": 3
   },
   "file_extension": ".py",
   "mimetype": "text/x-python",
   "name": "python",
   "nbconvert_exporter": "python",
   "pygments_lexer": "ipython3",
   "version": "3.12.4"
  }
 },
 "nbformat": 4,
 "nbformat_minor": 5
}
