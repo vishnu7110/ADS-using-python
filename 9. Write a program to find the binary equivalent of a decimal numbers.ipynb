{
 "cells": [
  {
   "cell_type": "code",
   "execution_count": 4,
   "id": "76422e8a-5f34-413d-b7f3-23d2f7d9a77e",
   "metadata": {},
   "outputs": [
    {
     "name": "stdin",
     "output_type": "stream",
     "text": [
      "Enter a decimal number:  55\n"
     ]
    },
    {
     "name": "stdout",
     "output_type": "stream",
     "text": [
      "The binary equivalent of 55 is 110111\n"
     ]
    }
   ],
   "source": [
    "# 9. Write a program to find the binary equivalent of a decimal numbers\n",
    "def decimal_to_binary(n):\n",
    "    \n",
    "    binary = \"\"\n",
    "    \n",
    "    \n",
    "    if n == 0:\n",
    "        return \"0\"\n",
    "    \n",
    "    \n",
    "    while n > 0:\n",
    "        binary = str(n % 2) + binary  \n",
    "        n = n // 2  \n",
    "    \n",
    "    return binary\n",
    "\n",
    "\n",
    "decimal_number = int(input(\"Enter a decimal number: \"))\n",
    "binary_representation = decimal_to_binary(decimal_number)\n",
    "print(f\"The binary equivalent of {decimal_number} is {binary_representation}\")\n"
   ]
  },
  {
   "cell_type": "code",
   "execution_count": null,
   "id": "82209cec-7d71-42d4-960a-18d37527c7c9",
   "metadata": {},
   "outputs": [],
   "source": []
  }
 ],
 "metadata": {
  "kernelspec": {
   "display_name": "Python 3 (ipykernel)",
   "language": "python",
   "name": "python3"
  },
  "language_info": {
   "codemirror_mode": {
    "name": "ipython",
    "version": 3
   },
   "file_extension": ".py",
   "mimetype": "text/x-python",
   "name": "python",
   "nbconvert_exporter": "python",
   "pygments_lexer": "ipython3",
   "version": "3.12.4"
  }
 },
 "nbformat": 4,
 "nbformat_minor": 5
}
