{
 "cells": [
  {
   "cell_type": "code",
   "execution_count": 2,
   "id": "a7d62731-53c8-48c3-a48b-7a65ddcc9f47",
   "metadata": {},
   "outputs": [
    {
     "data": {
      "text/plain": [
       "2"
      ]
     },
     "execution_count": 2,
     "metadata": {},
     "output_type": "execute_result"
    }
   ],
   "source": [
    "# 8. Write a program to find the largest difference in a set of numbers\n",
    "import numpy as np\n",
    "arr=np.array([7,3,4,5,6,9,8])\n",
    "def calc(arr):\n",
    "    x=[]\n",
    "    for n in arr:\n",
    "        y=n-arr[0]\n",
    "        x.append(y)\n",
    "    \n",
    "    w=np.max(x)\n",
    "    return w\n",
    "\n",
    "calc(arr)\n",
    "        "
   ]
  },
  {
   "cell_type": "code",
   "execution_count": null,
   "id": "50414d5e-e088-45d3-bdab-6b0cbf036072",
   "metadata": {},
   "outputs": [],
   "source": []
  }
 ],
 "metadata": {
  "kernelspec": {
   "display_name": "Python 3 (ipykernel)",
   "language": "python",
   "name": "python3"
  },
  "language_info": {
   "codemirror_mode": {
    "name": "ipython",
    "version": 3
   },
   "file_extension": ".py",
   "mimetype": "text/x-python",
   "name": "python",
   "nbconvert_exporter": "python",
   "pygments_lexer": "ipython3",
   "version": "3.12.4"
  }
 },
 "nbformat": 4,
 "nbformat_minor": 5
}
