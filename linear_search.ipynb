{
 "cells": [
  {
   "cell_type": "code",
   "execution_count": 1,
   "id": "49b15a86-fcc1-4275-ad59-1a616add24b7",
   "metadata": {},
   "outputs": [
    {
     "name": "stdout",
     "output_type": "stream",
     "text": [
      "Unique element found using Linear Search: 4\n",
      "Unique element found using Binary Search: 4\n"
     ]
    }
   ],
   "source": [
    "def linear_search(arr):\n",
    "    for i in range(len(arr)):\n",
    "        if i == 0:\n",
    "            if arr[i] != arr[i + 1]:\n",
    "                return arr[i]\n",
    "        elif i == len(arr) - 1:\n",
    "            if arr[i] != arr[i - 1]:\n",
    "                return arr[i]\n",
    "        else:\n",
    "            if arr[i] != arr[i - 1] and arr[i] != arr[i + 1]:\n",
    "                return arr[i]\n",
    "    return None\n",
    "\n",
    "def binary_search(arr):\n",
    "    left, right = 0, len(arr) - 1\n",
    "    \n",
    "    while left < right:\n",
    "        mid = left + (right - left) // 2\n",
    "        \n",
    "        \n",
    "        if mid % 2 == 0:\n",
    "            if mid + 1 < len(arr) and arr[mid] == arr[mid + 1]:\n",
    "                left = mid + 2  \n",
    "            else:\n",
    "                right = mid \n",
    "        else:\n",
    "            if arr[mid] == arr[mid - 1]:\n",
    "                left = mid + 1 \n",
    "            else:\n",
    "                right = mid  \n",
    "    \n",
    "    return arr[left]\n",
    "\n",
    "# Input array\n",
    "arr = [1, 1, 2, 2, 3, 3, 4, 5, 5]\n",
    "\n",
    "# Finding unique element using Linear Search\n",
    "unique_linear = linear_search(arr)\n",
    "print(f\"Unique element found using Linear Search: {unique_linear}\")\n",
    "\n",
    "# Finding unique element using Binary Search\n",
    "unique_binary = binary_search(arr)\n",
    "print(f\"Unique element found using Binary Search: {unique_binary}\")"
   ]
  },
  {
   "cell_type": "code",
   "execution_count": null,
   "id": "656333e0-4761-48ff-a37c-f1a1daf40df0",
   "metadata": {},
   "outputs": [],
   "source": []
  }
 ],
 "metadata": {
  "kernelspec": {
   "display_name": "Python 3 (ipykernel)",
   "language": "python",
   "name": "python3"
  },
  "language_info": {
   "codemirror_mode": {
    "name": "ipython",
    "version": 3
   },
   "file_extension": ".py",
   "mimetype": "text/x-python",
   "name": "python",
   "nbconvert_exporter": "python",
   "pygments_lexer": "ipython3",
   "version": "3.12.4"
  }
 },
 "nbformat": 4,
 "nbformat_minor": 5
}
